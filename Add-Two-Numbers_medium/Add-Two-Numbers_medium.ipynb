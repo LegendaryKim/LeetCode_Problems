{
 "cells": [
  {
   "cell_type": "markdown",
   "metadata": {},
   "source": [
    "# 2. Add Two Numbers\n",
    "\n",
    "You are given two **non-empty** linked lists representing two non-negative integers. The digits are stored in **reversed order** and each of their nodes contain a single digit. Add the two numbers and return it as a linked list.\n",
    "\n",
    "You may assume the two numbers do not contain any leading zero, except the number 0 itself.\n",
    "\n",
    "```\n",
    "Example:\n",
    "\n",
    "Input: (2 -> 4 -> 3) + (5 -> 6 -> 4)\n",
    "Output: 7 -> 0 -> 8\n",
    "Explanation: 342 + 465 = 807.\n",
    "```"
   ]
  },
  {
   "cell_type": "code",
   "execution_count": 3,
   "metadata": {},
   "outputs": [],
   "source": [
    "class ListNode(object):\n",
    "    def __init__(self, x):\n",
    "        self.val = x\n",
    "        self.next = None"
   ]
  },
  {
   "cell_type": "code",
   "execution_count": 7,
   "metadata": {},
   "outputs": [],
   "source": [
    "class Solution:\n",
    "    # ListNode (Time: O(max(m,n)), Space: O(max(m,n)))\n",
    "    def addTwoNumbers(self, l1: ListNode, l2: ListNode) -> ListNode:\n",
    "        ans = ListNode(0)\n",
    "        tmp = ans\n",
    "        left = 0\n",
    "        \n",
    "        while l1 or l2:\n",
    "            x = l1.val if l1 != None else 0\n",
    "            y = l2.val if l2 != None else 0\n",
    "            sum = x + y + left\n",
    "            node = ListNode(sum%10)\n",
    "            left = sum // 10\n",
    "            \n",
    "            tmp.next = node\n",
    "            tmp = tmp.next\n",
    "            l1 = l1.next if l1 != None else l1\n",
    "            l2 = l2.next if l2 != None else l2        \n",
    "\n",
    "        if left >0:\n",
    "            tmp.next = ListNode(left)\n",
    "        return ans.next"
   ]
  },
  {
   "cell_type": "code",
   "execution_count": null,
   "metadata": {},
   "outputs": [],
   "source": []
  }
 ],
 "metadata": {
  "kernelspec": {
   "display_name": "Python 3",
   "language": "python",
   "name": "python3"
  },
  "language_info": {
   "codemirror_mode": {
    "name": "ipython",
    "version": 3
   },
   "file_extension": ".py",
   "mimetype": "text/x-python",
   "name": "python",
   "nbconvert_exporter": "python",
   "pygments_lexer": "ipython3",
   "version": "3.6.8"
  }
 },
 "nbformat": 4,
 "nbformat_minor": 4
}
