{
 "cells": [
  {
   "cell_type": "markdown",
   "metadata": {},
   "source": [
    "# 200. Numbers of Islands\n",
    "\n",
    "Given a 2d grid of `1`s (land) and `0`s (water), count the number of islands. An island is surrounded by water and is formed by connecting adjacent lands horizontally or vertically. You may assume all four edges of the grid are all surrounded by water.\n",
    "\n",
    "```\n",
    "Example 1:\n",
    "\n",
    "Input: grid = [\n",
    "  [\"1\",\"1\",\"1\",\"1\",\"0\"],\n",
    "  [\"1\",\"1\",\"0\",\"1\",\"0\"],\n",
    "  [\"1\",\"1\",\"0\",\"0\",\"0\"],\n",
    "  [\"0\",\"0\",\"0\",\"0\",\"0\"]\n",
    "]\n",
    "Output: 1\n",
    "\n",
    "Example 2:\n",
    "\n",
    "Input: grid = [\n",
    "  [\"1\",\"1\",\"0\",\"0\",\"0\"],\n",
    "  [\"1\",\"1\",\"0\",\"0\",\"0\"],\n",
    "  [\"0\",\"0\",\"1\",\"0\",\"0\"],\n",
    "  [\"0\",\"0\",\"0\",\"1\",\"1\"]\n",
    "]\n",
    "Output: 3\n",
    "```"
   ]
  },
  {
   "cell_type": "code",
   "execution_count": 3,
   "metadata": {},
   "outputs": [],
   "source": [
    "from typing import List"
   ]
  },
  {
   "cell_type": "code",
   "execution_count": 8,
   "metadata": {},
   "outputs": [],
   "source": [
    "class Solution:\n",
    "    # Depth First Search (DFS) (Time: O(MxN), Space: worst O(MxN))\n",
    "    def dfs(self, grid, r, c):\n",
    "        nr = len(grid)\n",
    "        nc = len(grid[0])\n",
    "        if r < 0 or c < 0 or r >= nr or c >= nc or grid[r][c] == '0':\n",
    "            return\n",
    "        grid[r][c] = '0'\n",
    "        self.dfs(grid, r-1, c)\n",
    "        self.dfs(grid, r+1, c)\n",
    "        self.dfs(grid, r, c-1)\n",
    "        self.dfs(grid, r, c+1)\n",
    "    def numIslands(self, grid: List[List[str]]) -> int:\n",
    "        if len(grid) == 0:\n",
    "            return 0\n",
    "        nr = len(grid)\n",
    "        nc = len(grid[0])\n",
    "        num_islands = 0;\n",
    "        for r in range(nr):\n",
    "            for c in range(nc):\n",
    "                if grid[r][c] == '1':\n",
    "                    num_islands += 1\n",
    "                    self.dfs(grid, r, c)\n",
    "        return num_islands"
   ]
  },
  {
   "cell_type": "code",
   "execution_count": 9,
   "metadata": {},
   "outputs": [],
   "source": [
    "class Solution2:\n",
    "    # Breadth First Search (BFS) (Time: O(MxN), Space: worst O(min(M, N))))\n",
    "    def numIslands(self, grid: List[List[str]]) -> int:\n",
    "        if len(grid) == 0:\n",
    "            return 0\n",
    "        nr = len(grid)\n",
    "        nc = len(grid[0])\n",
    "        num_islands = 0\n",
    "        for r in range(nr):\n",
    "            for c in range(nc):\n",
    "                if grid[r][c] == '1':\n",
    "                    num_islands += 1\n",
    "                    grid[r][c] = '0'\n",
    "                    neighbors = []\n",
    "                    neighbors.append(r*nc + c)\n",
    "                    while neighbors:\n",
    "                        id = neighbors.pop()\n",
    "                        row = id // nc\n",
    "                        col = id % nc\n",
    "                        if row - 1 >= 0 and grid[row-1][col] == '1':\n",
    "                            neighbors.append((row-1)*nc + col)\n",
    "                            grid[row-1][col] = '0'\n",
    "                        if row + 1 < nr and grid[row+1][col] == '1':\n",
    "                            neighbors.append((row+1)*nc + col)\n",
    "                            grid[row+1][col] = '0'\n",
    "                        if col - 1 >= 0 and grid[row][col-1] == '1':\n",
    "                            neighbors.append(row*nc + col-1)\n",
    "                            grid[row][col-1] = '0'\n",
    "                        if col + 1 < nc and grid[row][col+1] == '1':\n",
    "                            neighbors.append(row*nc + col+1)\n",
    "                            grid[row][col+1] = '0'\n",
    "        return num_islands"
   ]
  },
  {
   "cell_type": "code",
   "execution_count": null,
   "metadata": {},
   "outputs": [],
   "source": []
  }
 ],
 "metadata": {
  "kernelspec": {
   "display_name": "Python 3",
   "language": "python",
   "name": "python3"
  },
  "language_info": {
   "codemirror_mode": {
    "name": "ipython",
    "version": 3
   },
   "file_extension": ".py",
   "mimetype": "text/x-python",
   "name": "python",
   "nbconvert_exporter": "python",
   "pygments_lexer": "ipython3",
   "version": "3.6.8"
  }
 },
 "nbformat": 4,
 "nbformat_minor": 4
}
